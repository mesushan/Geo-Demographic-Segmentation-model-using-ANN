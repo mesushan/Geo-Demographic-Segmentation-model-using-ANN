{
 "cells": [
  {
   "cell_type": "markdown",
   "metadata": {},
   "source": [
    "## Part 1 -> Data Pre-processing"
   ]
  },
  {
   "cell_type": "markdown",
   "metadata": {},
   "source": [
    "### Importing the libraries"
   ]
  },
  {
   "cell_type": "code",
   "execution_count": 1,
   "metadata": {},
   "outputs": [
    {
     "name": "stderr",
     "output_type": "stream",
     "text": [
      "Using TensorFlow backend.\n"
     ]
    }
   ],
   "source": [
    "import numpy as np\n",
    "import matplotlib.pyplot as plt\n",
    "import pandas as pd\n",
    "from sklearn.preprocessing import LabelEncoder, OneHotEncoder\n",
    "from sklearn.compose import ColumnTransformer\n",
    "from sklearn.model_selection import train_test_split\n",
    "from sklearn.preprocessing import StandardScaler\n",
    "import keras\n",
    "from keras.models import Sequential\n",
    "from keras.layers import Dense\n",
    "from sklearn.metrics import confusion_matrix, classification_report\n",
    "import seaborn as sns"
   ]
  },
  {
   "cell_type": "markdown",
   "metadata": {},
   "source": [
    "### Importing the dataset"
   ]
  },
  {
   "cell_type": "code",
   "execution_count": 2,
   "metadata": {},
   "outputs": [],
   "source": [
    "dataset = pd.read_csv('Churn_Modelling.csv')"
   ]
  },
  {
   "cell_type": "code",
   "execution_count": 3,
   "metadata": {},
   "outputs": [
    {
     "data": {
      "text/html": [
       "<div>\n",
       "<style scoped>\n",
       "    .dataframe tbody tr th:only-of-type {\n",
       "        vertical-align: middle;\n",
       "    }\n",
       "\n",
       "    .dataframe tbody tr th {\n",
       "        vertical-align: top;\n",
       "    }\n",
       "\n",
       "    .dataframe thead th {\n",
       "        text-align: right;\n",
       "    }\n",
       "</style>\n",
       "<table border=\"1\" class=\"dataframe\">\n",
       "  <thead>\n",
       "    <tr style=\"text-align: right;\">\n",
       "      <th></th>\n",
       "      <th>RowNumber</th>\n",
       "      <th>CustomerId</th>\n",
       "      <th>Surname</th>\n",
       "      <th>CreditScore</th>\n",
       "      <th>Geography</th>\n",
       "      <th>Gender</th>\n",
       "      <th>Age</th>\n",
       "      <th>Tenure</th>\n",
       "      <th>Balance</th>\n",
       "      <th>NumOfProducts</th>\n",
       "      <th>HasCrCard</th>\n",
       "      <th>IsActiveMember</th>\n",
       "      <th>EstimatedSalary</th>\n",
       "      <th>Exited</th>\n",
       "    </tr>\n",
       "  </thead>\n",
       "  <tbody>\n",
       "    <tr>\n",
       "      <th>0</th>\n",
       "      <td>1</td>\n",
       "      <td>15634602</td>\n",
       "      <td>Hargrave</td>\n",
       "      <td>619</td>\n",
       "      <td>France</td>\n",
       "      <td>Female</td>\n",
       "      <td>42</td>\n",
       "      <td>2</td>\n",
       "      <td>0.00</td>\n",
       "      <td>1</td>\n",
       "      <td>1</td>\n",
       "      <td>1</td>\n",
       "      <td>101348.88</td>\n",
       "      <td>1</td>\n",
       "    </tr>\n",
       "    <tr>\n",
       "      <th>1</th>\n",
       "      <td>2</td>\n",
       "      <td>15647311</td>\n",
       "      <td>Hill</td>\n",
       "      <td>608</td>\n",
       "      <td>Spain</td>\n",
       "      <td>Female</td>\n",
       "      <td>41</td>\n",
       "      <td>1</td>\n",
       "      <td>83807.86</td>\n",
       "      <td>1</td>\n",
       "      <td>0</td>\n",
       "      <td>1</td>\n",
       "      <td>112542.58</td>\n",
       "      <td>0</td>\n",
       "    </tr>\n",
       "    <tr>\n",
       "      <th>2</th>\n",
       "      <td>3</td>\n",
       "      <td>15619304</td>\n",
       "      <td>Onio</td>\n",
       "      <td>502</td>\n",
       "      <td>France</td>\n",
       "      <td>Female</td>\n",
       "      <td>42</td>\n",
       "      <td>8</td>\n",
       "      <td>159660.80</td>\n",
       "      <td>3</td>\n",
       "      <td>1</td>\n",
       "      <td>0</td>\n",
       "      <td>113931.57</td>\n",
       "      <td>1</td>\n",
       "    </tr>\n",
       "    <tr>\n",
       "      <th>3</th>\n",
       "      <td>4</td>\n",
       "      <td>15701354</td>\n",
       "      <td>Boni</td>\n",
       "      <td>699</td>\n",
       "      <td>France</td>\n",
       "      <td>Female</td>\n",
       "      <td>39</td>\n",
       "      <td>1</td>\n",
       "      <td>0.00</td>\n",
       "      <td>2</td>\n",
       "      <td>0</td>\n",
       "      <td>0</td>\n",
       "      <td>93826.63</td>\n",
       "      <td>0</td>\n",
       "    </tr>\n",
       "    <tr>\n",
       "      <th>4</th>\n",
       "      <td>5</td>\n",
       "      <td>15737888</td>\n",
       "      <td>Mitchell</td>\n",
       "      <td>850</td>\n",
       "      <td>Spain</td>\n",
       "      <td>Female</td>\n",
       "      <td>43</td>\n",
       "      <td>2</td>\n",
       "      <td>125510.82</td>\n",
       "      <td>1</td>\n",
       "      <td>1</td>\n",
       "      <td>1</td>\n",
       "      <td>79084.10</td>\n",
       "      <td>0</td>\n",
       "    </tr>\n",
       "  </tbody>\n",
       "</table>\n",
       "</div>"
      ],
      "text/plain": [
       "   RowNumber  CustomerId   Surname  CreditScore Geography  Gender  Age  \\\n",
       "0          1    15634602  Hargrave          619    France  Female   42   \n",
       "1          2    15647311      Hill          608     Spain  Female   41   \n",
       "2          3    15619304      Onio          502    France  Female   42   \n",
       "3          4    15701354      Boni          699    France  Female   39   \n",
       "4          5    15737888  Mitchell          850     Spain  Female   43   \n",
       "\n",
       "   Tenure    Balance  NumOfProducts  HasCrCard  IsActiveMember  \\\n",
       "0       2       0.00              1          1               1   \n",
       "1       1   83807.86              1          0               1   \n",
       "2       8  159660.80              3          1               0   \n",
       "3       1       0.00              2          0               0   \n",
       "4       2  125510.82              1          1               1   \n",
       "\n",
       "   EstimatedSalary  Exited  \n",
       "0        101348.88       1  \n",
       "1        112542.58       0  \n",
       "2        113931.57       1  \n",
       "3         93826.63       0  \n",
       "4         79084.10       0  "
      ]
     },
     "execution_count": 3,
     "metadata": {},
     "output_type": "execute_result"
    }
   ],
   "source": [
    "dataset.head()"
   ]
  },
  {
   "cell_type": "code",
   "execution_count": 4,
   "metadata": {},
   "outputs": [],
   "source": [
    "X = dataset.iloc[:, 3:13].values"
   ]
  },
  {
   "cell_type": "code",
   "execution_count": 5,
   "metadata": {},
   "outputs": [
    {
     "data": {
      "text/plain": [
       "array([[619, 'France', 'Female', 42, 2, 0.0, 1, 1, 1, 101348.88],\n",
       "       [608, 'Spain', 'Female', 41, 1, 83807.86, 1, 0, 1, 112542.58],\n",
       "       [502, 'France', 'Female', 42, 8, 159660.8, 3, 1, 0, 113931.57],\n",
       "       [699, 'France', 'Female', 39, 1, 0.0, 2, 0, 0, 93826.63],\n",
       "       [850, 'Spain', 'Female', 43, 2, 125510.82, 1, 1, 1, 79084.1]],\n",
       "      dtype=object)"
      ]
     },
     "execution_count": 5,
     "metadata": {},
     "output_type": "execute_result"
    }
   ],
   "source": [
    "X[:5]"
   ]
  },
  {
   "cell_type": "code",
   "execution_count": 6,
   "metadata": {},
   "outputs": [],
   "source": [
    "y = dataset.iloc[:, 13]"
   ]
  },
  {
   "cell_type": "code",
   "execution_count": 7,
   "metadata": {},
   "outputs": [
    {
     "data": {
      "text/plain": [
       "0    1\n",
       "1    0\n",
       "2    1\n",
       "3    0\n",
       "4    0\n",
       "Name: Exited, dtype: int64"
      ]
     },
     "execution_count": 7,
     "metadata": {},
     "output_type": "execute_result"
    }
   ],
   "source": [
    "y.head()"
   ]
  },
  {
   "cell_type": "markdown",
   "metadata": {},
   "source": [
    "### Encoding categorical data"
   ]
  },
  {
   "cell_type": "code",
   "execution_count": 8,
   "metadata": {},
   "outputs": [],
   "source": [
    "# for geography column\n",
    "labelencoder_X_1 = LabelEncoder()\n",
    "X[:, 1] = labelencoder_X_1.fit_transform(X[:, 1])"
   ]
  },
  {
   "cell_type": "code",
   "execution_count": 9,
   "metadata": {},
   "outputs": [],
   "source": [
    "# for gender column\n",
    "labelencoder_X_2 = LabelEncoder()\n",
    "X[:, 2] = labelencoder_X_2.fit_transform(X[:, 2])"
   ]
  },
  {
   "cell_type": "code",
   "execution_count": 10,
   "metadata": {},
   "outputs": [
    {
     "data": {
      "text/plain": [
       "array([[619, 0, 0, ..., 1, 1, 101348.88],\n",
       "       [608, 2, 0, ..., 0, 1, 112542.58],\n",
       "       [502, 0, 0, ..., 1, 0, 113931.57],\n",
       "       ...,\n",
       "       [709, 0, 0, ..., 0, 1, 42085.58],\n",
       "       [772, 1, 1, ..., 1, 0, 92888.52],\n",
       "       [792, 0, 0, ..., 1, 0, 38190.78]], dtype=object)"
      ]
     },
     "execution_count": 10,
     "metadata": {},
     "output_type": "execute_result"
    }
   ],
   "source": [
    "X"
   ]
  },
  {
   "cell_type": "code",
   "execution_count": 11,
   "metadata": {},
   "outputs": [],
   "source": [
    "transform = ColumnTransformer([(\"Geography\", OneHotEncoder(), [1])], remainder=\"passthrough\")"
   ]
  },
  {
   "cell_type": "code",
   "execution_count": 14,
   "metadata": {},
   "outputs": [],
   "source": [
    "X = transform.fit_transform(X).astype(float)"
   ]
  },
  {
   "cell_type": "code",
   "execution_count": 15,
   "metadata": {},
   "outputs": [
    {
     "data": {
      "text/plain": [
       "array([[1.0000000e+00, 0.0000000e+00, 0.0000000e+00, ..., 1.0000000e+00,\n",
       "        1.0000000e+00, 1.0134888e+05],\n",
       "       [0.0000000e+00, 0.0000000e+00, 1.0000000e+00, ..., 0.0000000e+00,\n",
       "        1.0000000e+00, 1.1254258e+05],\n",
       "       [1.0000000e+00, 0.0000000e+00, 0.0000000e+00, ..., 1.0000000e+00,\n",
       "        0.0000000e+00, 1.1393157e+05],\n",
       "       ...,\n",
       "       [1.0000000e+00, 0.0000000e+00, 0.0000000e+00, ..., 0.0000000e+00,\n",
       "        1.0000000e+00, 4.2085580e+04],\n",
       "       [0.0000000e+00, 1.0000000e+00, 0.0000000e+00, ..., 1.0000000e+00,\n",
       "        0.0000000e+00, 9.2888520e+04],\n",
       "       [1.0000000e+00, 0.0000000e+00, 0.0000000e+00, ..., 1.0000000e+00,\n",
       "        0.0000000e+00, 3.8190780e+04]])"
      ]
     },
     "execution_count": 15,
     "metadata": {},
     "output_type": "execute_result"
    }
   ],
   "source": [
    "X"
   ]
  },
  {
   "cell_type": "code",
   "execution_count": 16,
   "metadata": {},
   "outputs": [],
   "source": [
    "X = X[:, 1:]"
   ]
  },
  {
   "cell_type": "code",
   "execution_count": 17,
   "metadata": {},
   "outputs": [
    {
     "data": {
      "text/plain": [
       "array([[0.0000000e+00, 0.0000000e+00, 6.1900000e+02, ..., 1.0000000e+00,\n",
       "        1.0000000e+00, 1.0134888e+05],\n",
       "       [0.0000000e+00, 1.0000000e+00, 6.0800000e+02, ..., 0.0000000e+00,\n",
       "        1.0000000e+00, 1.1254258e+05],\n",
       "       [0.0000000e+00, 0.0000000e+00, 5.0200000e+02, ..., 1.0000000e+00,\n",
       "        0.0000000e+00, 1.1393157e+05],\n",
       "       ...,\n",
       "       [0.0000000e+00, 0.0000000e+00, 7.0900000e+02, ..., 0.0000000e+00,\n",
       "        1.0000000e+00, 4.2085580e+04],\n",
       "       [1.0000000e+00, 0.0000000e+00, 7.7200000e+02, ..., 1.0000000e+00,\n",
       "        0.0000000e+00, 9.2888520e+04],\n",
       "       [0.0000000e+00, 0.0000000e+00, 7.9200000e+02, ..., 1.0000000e+00,\n",
       "        0.0000000e+00, 3.8190780e+04]])"
      ]
     },
     "execution_count": 17,
     "metadata": {},
     "output_type": "execute_result"
    }
   ],
   "source": [
    "X"
   ]
  },
  {
   "cell_type": "markdown",
   "metadata": {},
   "source": [
    "### Splitting the dataset into the Training set and Test set"
   ]
  },
  {
   "cell_type": "code",
   "execution_count": 18,
   "metadata": {},
   "outputs": [],
   "source": [
    "from sklearn.model_selection import train_test_split\n",
    "X_train, X_test, y_train, y_test = train_test_split(X, y, test_size = 0.2, random_state = 0)"
   ]
  },
  {
   "cell_type": "code",
   "execution_count": 21,
   "metadata": {},
   "outputs": [
    {
     "data": {
      "text/plain": [
       "(8000, 11)"
      ]
     },
     "execution_count": 21,
     "metadata": {},
     "output_type": "execute_result"
    }
   ],
   "source": [
    "X_train.shape"
   ]
  },
  {
   "cell_type": "code",
   "execution_count": 22,
   "metadata": {},
   "outputs": [
    {
     "data": {
      "text/plain": [
       "(8000,)"
      ]
     },
     "execution_count": 22,
     "metadata": {},
     "output_type": "execute_result"
    }
   ],
   "source": [
    "y_train.shape"
   ]
  },
  {
   "cell_type": "code",
   "execution_count": 23,
   "metadata": {},
   "outputs": [
    {
     "data": {
      "text/plain": [
       "(2000, 11)"
      ]
     },
     "execution_count": 23,
     "metadata": {},
     "output_type": "execute_result"
    }
   ],
   "source": [
    "X_test.shape"
   ]
  },
  {
   "cell_type": "code",
   "execution_count": 24,
   "metadata": {},
   "outputs": [
    {
     "data": {
      "text/plain": [
       "(2000,)"
      ]
     },
     "execution_count": 24,
     "metadata": {},
     "output_type": "execute_result"
    }
   ],
   "source": [
    "y_test.shape"
   ]
  },
  {
   "cell_type": "markdown",
   "metadata": {},
   "source": [
    "###  Feature Scaling"
   ]
  },
  {
   "cell_type": "code",
   "execution_count": 25,
   "metadata": {},
   "outputs": [],
   "source": [
    "sc = StandardScaler()\n",
    "X_train = sc.fit_transform(X_train)\n",
    "X_test = sc.transform(X_test)"
   ]
  },
  {
   "cell_type": "code",
   "execution_count": 26,
   "metadata": {},
   "outputs": [
    {
     "data": {
      "text/plain": [
       "array([[-0.5698444 ,  1.74309049,  0.16958176, ...,  0.64259497,\n",
       "        -1.03227043,  1.10643166],\n",
       "       [ 1.75486502, -0.57369368, -2.30455945, ...,  0.64259497,\n",
       "         0.9687384 , -0.74866447],\n",
       "       [-0.5698444 , -0.57369368, -1.19119591, ...,  0.64259497,\n",
       "        -1.03227043,  1.48533467],\n",
       "       ...,\n",
       "       [-0.5698444 , -0.57369368,  0.9015152 , ...,  0.64259497,\n",
       "        -1.03227043,  1.41231994],\n",
       "       [-0.5698444 ,  1.74309049, -0.62420521, ...,  0.64259497,\n",
       "         0.9687384 ,  0.84432121],\n",
       "       [ 1.75486502, -0.57369368, -0.28401079, ...,  0.64259497,\n",
       "        -1.03227043,  0.32472465]])"
      ]
     },
     "execution_count": 26,
     "metadata": {},
     "output_type": "execute_result"
    }
   ],
   "source": [
    "X_train"
   ]
  },
  {
   "cell_type": "code",
   "execution_count": 27,
   "metadata": {},
   "outputs": [
    {
     "data": {
      "text/plain": [
       "array([[ 1.75486502, -0.57369368, -0.55204276, ...,  0.64259497,\n",
       "         0.9687384 ,  1.61085707],\n",
       "       [-0.5698444 , -0.57369368, -1.31490297, ...,  0.64259497,\n",
       "        -1.03227043,  0.49587037],\n",
       "       [-0.5698444 ,  1.74309049,  0.57162971, ...,  0.64259497,\n",
       "         0.9687384 , -0.42478674],\n",
       "       ...,\n",
       "       [-0.5698444 ,  1.74309049, -0.74791227, ...,  0.64259497,\n",
       "        -1.03227043,  0.71888467],\n",
       "       [ 1.75486502, -0.57369368, -0.00566991, ...,  0.64259497,\n",
       "         0.9687384 , -1.54507805],\n",
       "       [ 1.75486502, -0.57369368, -0.79945688, ...,  0.64259497,\n",
       "        -1.03227043,  1.61255917]])"
      ]
     },
     "execution_count": 27,
     "metadata": {},
     "output_type": "execute_result"
    }
   ],
   "source": [
    "X_test"
   ]
  },
  {
   "cell_type": "markdown",
   "metadata": {},
   "source": [
    "## Part 2 -> Building the Artificial Neural Network (ANN)"
   ]
  },
  {
   "cell_type": "code",
   "execution_count": 28,
   "metadata": {},
   "outputs": [],
   "source": [
    "# Initialising the ANN\n",
    "classifier = Sequential()"
   ]
  },
  {
   "cell_type": "code",
   "execution_count": 29,
   "metadata": {},
   "outputs": [],
   "source": [
    "# Adding the input layer and the first hidden layer\n",
    "classifier.add(Dense(6, kernel_initializer=\"uniform\", activation = 'relu', input_dim = 11))"
   ]
  },
  {
   "cell_type": "code",
   "execution_count": 30,
   "metadata": {},
   "outputs": [],
   "source": [
    "# Adding the second hidden layer\n",
    "classifier.add(Dense(6, kernel_initializer=\"uniform\", activation = 'relu'))"
   ]
  },
  {
   "cell_type": "code",
   "execution_count": 31,
   "metadata": {},
   "outputs": [],
   "source": [
    "# Adding the output layer\n",
    "classifier.add(Dense(1, kernel_initializer = 'uniform', activation = 'sigmoid'))"
   ]
  },
  {
   "cell_type": "code",
   "execution_count": 32,
   "metadata": {},
   "outputs": [],
   "source": [
    "# Compiling the ANN\n",
    "classifier.compile(optimizer = 'adam', loss = 'binary_crossentropy', metrics = ['accuracy'])"
   ]
  },
  {
   "cell_type": "code",
   "execution_count": 33,
   "metadata": {},
   "outputs": [
    {
     "name": "stdout",
     "output_type": "stream",
     "text": [
      "Epoch 1/100\n",
      "8000/8000 [==============================] - 12s 1ms/step - loss: 0.4792 - accuracy: 0.7960\n",
      "Epoch 2/100\n",
      "8000/8000 [==============================] - 12s 2ms/step - loss: 0.4279 - accuracy: 0.7960\n",
      "Epoch 3/100\n",
      "8000/8000 [==============================] - 14s 2ms/step - loss: 0.4222 - accuracy: 0.7983\n",
      "Epoch 4/100\n",
      "8000/8000 [==============================] - 10s 1ms/step - loss: 0.4178 - accuracy: 0.8232\n",
      "Epoch 5/100\n",
      "8000/8000 [==============================] - 9s 1ms/step - loss: 0.4153 - accuracy: 0.8310\n",
      "Epoch 6/100\n",
      "8000/8000 [==============================] - 15s 2ms/step - loss: 0.4138 - accuracy: 0.8309\n",
      "Epoch 7/100\n",
      "8000/8000 [==============================] - 17s 2ms/step - loss: 0.4125 - accuracy: 0.8309\n",
      "Epoch 8/100\n",
      "8000/8000 [==============================] - 13s 2ms/step - loss: 0.4110 - accuracy: 0.8325\n",
      "Epoch 9/100\n",
      "8000/8000 [==============================] - 20s 2ms/step - loss: 0.4099 - accuracy: 0.8347\n",
      "Epoch 10/100\n",
      "8000/8000 [==============================] - 24s 3ms/step - loss: 0.4089 - accuracy: 0.8334\n",
      "Epoch 11/100\n",
      "8000/8000 [==============================] - 17s 2ms/step - loss: 0.4081 - accuracy: 0.8330\n",
      "Epoch 12/100\n",
      "8000/8000 [==============================] - 22s 3ms/step - loss: 0.4079 - accuracy: 0.8350\n",
      "Epoch 13/100\n",
      "8000/8000 [==============================] - 21s 3ms/step - loss: 0.4072 - accuracy: 0.8338\n",
      "Epoch 14/100\n",
      "8000/8000 [==============================] - 22s 3ms/step - loss: 0.4062 - accuracy: 0.8346\n",
      "Epoch 15/100\n",
      "8000/8000 [==============================] - 20s 3ms/step - loss: 0.4063 - accuracy: 0.8347\n",
      "Epoch 16/100\n",
      "8000/8000 [==============================] - 15s 2ms/step - loss: 0.4058 - accuracy: 0.8353\n",
      "Epoch 17/100\n",
      "8000/8000 [==============================] - 19s 2ms/step - loss: 0.4054 - accuracy: 0.8338\n",
      "Epoch 18/100\n",
      "8000/8000 [==============================] - 16s 2ms/step - loss: 0.4052 - accuracy: 0.8347\n",
      "Epoch 19/100\n",
      "8000/8000 [==============================] - 18s 2ms/step - loss: 0.4044 - accuracy: 0.8349\n",
      "Epoch 20/100\n",
      "8000/8000 [==============================] - 15s 2ms/step - loss: 0.4043 - accuracy: 0.8347\n",
      "Epoch 21/100\n",
      "8000/8000 [==============================] - 15s 2ms/step - loss: 0.4045 - accuracy: 0.8339\n",
      "Epoch 22/100\n",
      "8000/8000 [==============================] - 20s 2ms/step - loss: 0.4040 - accuracy: 0.8340\n",
      "Epoch 23/100\n",
      "8000/8000 [==============================] - 20s 2ms/step - loss: 0.4037 - accuracy: 0.8363\n",
      "Epoch 24/100\n",
      "8000/8000 [==============================] - 19s 2ms/step - loss: 0.4038 - accuracy: 0.8354\n",
      "Epoch 25/100\n",
      "8000/8000 [==============================] - 10s 1ms/step - loss: 0.4031 - accuracy: 0.8349\n",
      "Epoch 26/100\n",
      "8000/8000 [==============================] - 10s 1ms/step - loss: 0.4034 - accuracy: 0.8351\n",
      "Epoch 27/100\n",
      "8000/8000 [==============================] - 14s 2ms/step - loss: 0.4030 - accuracy: 0.8354\n",
      "Epoch 28/100\n",
      "8000/8000 [==============================] - 10s 1ms/step - loss: 0.4032 - accuracy: 0.8345\n",
      "Epoch 29/100\n",
      "8000/8000 [==============================] - 13s 2ms/step - loss: 0.4028 - accuracy: 0.8349\n",
      "Epoch 30/100\n",
      "8000/8000 [==============================] - 13s 2ms/step - loss: 0.4029 - accuracy: 0.8361\n",
      "Epoch 31/100\n",
      "8000/8000 [==============================] - 15s 2ms/step - loss: 0.4027 - accuracy: 0.8340\n",
      "Epoch 32/100\n",
      "8000/8000 [==============================] - 14s 2ms/step - loss: 0.4026 - accuracy: 0.8347\n",
      "Epoch 33/100\n",
      "8000/8000 [==============================] - 16s 2ms/step - loss: 0.4020 - accuracy: 0.8354\n",
      "Epoch 34/100\n",
      "8000/8000 [==============================] - 17s 2ms/step - loss: 0.4021 - accuracy: 0.8344\n",
      "Epoch 35/100\n",
      "8000/8000 [==============================] - 15s 2ms/step - loss: 0.4023 - accuracy: 0.8349\n",
      "Epoch 36/100\n",
      "8000/8000 [==============================] - 18s 2ms/step - loss: 0.4021 - accuracy: 0.8357\n",
      "Epoch 37/100\n",
      "8000/8000 [==============================] - 15s 2ms/step - loss: 0.4020 - accuracy: 0.8346\n",
      "Epoch 38/100\n",
      "8000/8000 [==============================] - 15s 2ms/step - loss: 0.4017 - accuracy: 0.8336\n",
      "Epoch 39/100\n",
      "8000/8000 [==============================] - 16s 2ms/step - loss: 0.4018 - accuracy: 0.8367\n",
      "Epoch 40/100\n",
      "8000/8000 [==============================] - 18s 2ms/step - loss: 0.4020 - accuracy: 0.8341\n",
      "Epoch 41/100\n",
      "8000/8000 [==============================] - 20s 3ms/step - loss: 0.4022 - accuracy: 0.8351\n",
      "Epoch 42/100\n",
      "8000/8000 [==============================] - 20s 3ms/step - loss: 0.4021 - accuracy: 0.8340\n",
      "Epoch 43/100\n",
      "8000/8000 [==============================] - 23s 3ms/step - loss: 0.4019 - accuracy: 0.8349\n",
      "Epoch 44/100\n",
      "8000/8000 [==============================] - 23s 3ms/step - loss: 0.4021 - accuracy: 0.8336\n",
      "Epoch 45/100\n",
      "8000/8000 [==============================] - 17s 2ms/step - loss: 0.4020 - accuracy: 0.8357\n",
      "Epoch 46/100\n",
      "8000/8000 [==============================] - 18s 2ms/step - loss: 0.4014 - accuracy: 0.8342\n",
      "Epoch 47/100\n",
      "8000/8000 [==============================] - 19s 2ms/step - loss: 0.4019 - accuracy: 0.8336\n",
      "Epoch 48/100\n",
      "8000/8000 [==============================] - 20s 2ms/step - loss: 0.4015 - accuracy: 0.8341\n",
      "Epoch 49/100\n",
      "8000/8000 [==============================] - 21s 3ms/step - loss: 0.4016 - accuracy: 0.8353\n",
      "Epoch 50/100\n",
      "8000/8000 [==============================] - 20s 2ms/step - loss: 0.4013 - accuracy: 0.8356\n",
      "Epoch 51/100\n",
      "8000/8000 [==============================] - 20s 2ms/step - loss: 0.4014 - accuracy: 0.8350\n",
      "Epoch 52/100\n",
      "8000/8000 [==============================] - 17s 2ms/step - loss: 0.4017 - accuracy: 0.8340\n",
      "Epoch 53/100\n",
      "8000/8000 [==============================] - 18s 2ms/step - loss: 0.4011 - accuracy: 0.8334\n",
      "Epoch 54/100\n",
      "8000/8000 [==============================] - 20s 2ms/step - loss: 0.4014 - accuracy: 0.8345\n",
      "Epoch 55/100\n",
      "8000/8000 [==============================] - 19s 2ms/step - loss: 0.4013 - accuracy: 0.8341\n",
      "Epoch 56/100\n",
      "8000/8000 [==============================] - 20s 2ms/step - loss: 0.4009 - accuracy: 0.8349\n",
      "Epoch 57/100\n",
      "8000/8000 [==============================] - 19s 2ms/step - loss: 0.4014 - accuracy: 0.8356\n",
      "Epoch 58/100\n",
      "8000/8000 [==============================] - 16s 2ms/step - loss: 0.4012 - accuracy: 0.8342\n",
      "Epoch 59/100\n",
      "8000/8000 [==============================] - 12s 1ms/step - loss: 0.4015 - accuracy: 0.8342\n",
      "Epoch 60/100\n",
      "8000/8000 [==============================] - 18s 2ms/step - loss: 0.4012 - accuracy: 0.8350\n",
      "Epoch 61/100\n",
      "8000/8000 [==============================] - 20s 2ms/step - loss: 0.4008 - accuracy: 0.8351\n",
      "Epoch 62/100\n",
      "8000/8000 [==============================] - 21s 3ms/step - loss: 0.4011 - accuracy: 0.8363\n",
      "Epoch 63/100\n",
      "8000/8000 [==============================] - 26s 3ms/step - loss: 0.4010 - accuracy: 0.8360\n",
      "Epoch 64/100\n",
      "8000/8000 [==============================] - 20s 3ms/step - loss: 0.4015 - accuracy: 0.8345\n",
      "Epoch 65/100\n",
      "8000/8000 [==============================] - 19s 2ms/step - loss: 0.4009 - accuracy: 0.8344\n",
      "Epoch 66/100\n",
      "8000/8000 [==============================] - 18s 2ms/step - loss: 0.4009 - accuracy: 0.8336\n",
      "Epoch 67/100\n",
      "8000/8000 [==============================] - 17s 2ms/step - loss: 0.4011 - accuracy: 0.8336\n",
      "Epoch 68/100\n",
      "8000/8000 [==============================] - 18s 2ms/step - loss: 0.4010 - accuracy: 0.8353\n",
      "Epoch 69/100\n",
      "8000/8000 [==============================] - 20s 2ms/step - loss: 0.4009 - accuracy: 0.8357\n",
      "Epoch 70/100\n",
      "8000/8000 [==============================] - 12s 2ms/step - loss: 0.4009 - accuracy: 0.8334\n",
      "Epoch 71/100\n",
      "8000/8000 [==============================] - 13s 2ms/step - loss: 0.4011 - accuracy: 0.8353\n",
      "Epoch 72/100\n",
      "8000/8000 [==============================] - 16s 2ms/step - loss: 0.4005 - accuracy: 0.8354\n",
      "Epoch 73/100\n",
      "8000/8000 [==============================] - 18s 2ms/step - loss: 0.4012 - accuracy: 0.8341\n",
      "Epoch 74/100\n",
      "8000/8000 [==============================] - 17s 2ms/step - loss: 0.4003 - accuracy: 0.8331\n",
      "Epoch 75/100\n",
      "8000/8000 [==============================] - 22s 3ms/step - loss: 0.4010 - accuracy: 0.8342\n",
      "Epoch 76/100\n",
      "8000/8000 [==============================] - 22s 3ms/step - loss: 0.4006 - accuracy: 0.8349\n",
      "Epoch 77/100\n",
      "8000/8000 [==============================] - 21s 3ms/step - loss: 0.4010 - accuracy: 0.8340\n",
      "Epoch 78/100\n",
      "8000/8000 [==============================] - 16s 2ms/step - loss: 0.4007 - accuracy: 0.8360\n",
      "Epoch 79/100\n",
      "8000/8000 [==============================] - 19s 2ms/step - loss: 0.4005 - accuracy: 0.8357\n",
      "Epoch 80/100\n",
      "8000/8000 [==============================] - 20s 2ms/step - loss: 0.4000 - accuracy: 0.8344\n",
      "Epoch 81/100\n",
      "8000/8000 [==============================] - 17s 2ms/step - loss: 0.4011 - accuracy: 0.8350\n",
      "Epoch 82/100\n",
      "8000/8000 [==============================] - 20s 2ms/step - loss: 0.4008 - accuracy: 0.8339\n",
      "Epoch 83/100\n",
      "8000/8000 [==============================] - 20s 2ms/step - loss: 0.4007 - accuracy: 0.8370\n",
      "Epoch 84/100\n",
      "8000/8000 [==============================] - 19s 2ms/step - loss: 0.4007 - accuracy: 0.8332\n",
      "Epoch 85/100\n",
      "8000/8000 [==============================] - 12s 2ms/step - loss: 0.4003 - accuracy: 0.8351\n",
      "Epoch 86/100\n",
      "8000/8000 [==============================] - 14s 2ms/step - loss: 0.4006 - accuracy: 0.8339\n",
      "Epoch 87/100\n",
      "8000/8000 [==============================] - 14s 2ms/step - loss: 0.4007 - accuracy: 0.8345\n",
      "Epoch 88/100\n",
      "8000/8000 [==============================] - 17s 2ms/step - loss: 0.4005 - accuracy: 0.8336\n",
      "Epoch 89/100\n",
      "8000/8000 [==============================] - 16s 2ms/step - loss: 0.4008 - accuracy: 0.8330\n",
      "Epoch 90/100\n",
      "8000/8000 [==============================] - 20s 3ms/step - loss: 0.4007 - accuracy: 0.8365\n",
      "Epoch 91/100\n",
      "8000/8000 [==============================] - 18s 2ms/step - loss: 0.4007 - accuracy: 0.8344\n",
      "Epoch 92/100\n",
      "8000/8000 [==============================] - 20s 3ms/step - loss: 0.4005 - accuracy: 0.8347\n",
      "Epoch 93/100\n",
      "8000/8000 [==============================] - 19s 2ms/step - loss: 0.4005 - accuracy: 0.8350\n",
      "Epoch 94/100\n",
      "8000/8000 [==============================] - 20s 3ms/step - loss: 0.4003 - accuracy: 0.8360\n",
      "Epoch 95/100\n",
      "8000/8000 [==============================] - 20s 3ms/step - loss: 0.4008 - accuracy: 0.8355\n",
      "Epoch 96/100\n",
      "8000/8000 [==============================] - 22s 3ms/step - loss: 0.3999 - accuracy: 0.8360\n",
      "Epoch 97/100\n",
      "8000/8000 [==============================] - 20s 2ms/step - loss: 0.4000 - accuracy: 0.8359\n",
      "Epoch 98/100\n",
      "8000/8000 [==============================] - 19s 2ms/step - loss: 0.4009 - accuracy: 0.8341\n",
      "Epoch 99/100\n",
      "8000/8000 [==============================] - 23s 3ms/step - loss: 0.4001 - accuracy: 0.8364\n",
      "Epoch 100/100\n",
      "8000/8000 [==============================] - 17s 2ms/step - loss: 0.4005 - accuracy: 0.8346\n"
     ]
    },
    {
     "data": {
      "text/plain": [
       "<keras.callbacks.callbacks.History at 0x7f0430f86d90>"
      ]
     },
     "execution_count": 33,
     "metadata": {},
     "output_type": "execute_result"
    }
   ],
   "source": [
    "# Fitting the ANN to the Training set\n",
    "classifier.fit(X_train, y_train, batch_size = 10, epochs = 100)"
   ]
  },
  {
   "cell_type": "markdown",
   "metadata": {},
   "source": [
    "## Part 3 -> Making the predictions and evaluating the model"
   ]
  },
  {
   "cell_type": "code",
   "execution_count": 34,
   "metadata": {},
   "outputs": [],
   "source": [
    "# Predicting the Test set results\n",
    "y_pred = classifier.predict(X_test)"
   ]
  },
  {
   "cell_type": "code",
   "execution_count": 35,
   "metadata": {},
   "outputs": [
    {
     "data": {
      "text/plain": [
       "array([[0.18101719],\n",
       "       [0.32444394],\n",
       "       [0.16066444],\n",
       "       ...,\n",
       "       [0.16544524],\n",
       "       [0.16072899],\n",
       "       [0.11063281]], dtype=float32)"
      ]
     },
     "execution_count": 35,
     "metadata": {},
     "output_type": "execute_result"
    }
   ],
   "source": [
    "y_pred"
   ]
  },
  {
   "cell_type": "code",
   "execution_count": 36,
   "metadata": {},
   "outputs": [],
   "source": [
    "# better visualization by showing false(0) and true(1) in prediction\n",
    "# 50% theshold is taken in consideration\n",
    "y_pred = (y_pred > 0.5)"
   ]
  },
  {
   "cell_type": "code",
   "execution_count": 39,
   "metadata": {},
   "outputs": [
    {
     "data": {
      "text/plain": [
       "array([[False],\n",
       "       [False],\n",
       "       [False],\n",
       "       ...,\n",
       "       [False],\n",
       "       [False],\n",
       "       [False]])"
      ]
     },
     "execution_count": 39,
     "metadata": {},
     "output_type": "execute_result"
    }
   ],
   "source": [
    "y_pred"
   ]
  },
  {
   "cell_type": "code",
   "execution_count": 41,
   "metadata": {},
   "outputs": [
    {
     "name": "stdout",
     "output_type": "stream",
     "text": [
      "[[1553   42]\n",
      " [ 273  132]]\n"
     ]
    },
    {
     "data": {
      "image/png": "[encoded data removed]",
      "text/plain": [
       "<Figure size 432x288 with 2 Axes>"
      ]
     },
     "metadata": {
      "needs_background": "light"
     },
     "output_type": "display_data"
    }
   ],
   "source": [
    "# making the confusion matrix\n",
    "print(confusion_matrix(y_test, y_pred))\n",
    "matrix = np.array(confusion_matrix(y_test, y_pred))\n",
    "sns.heatmap(matrix, annot=True, fmt='d', cmap='Blues')\n",
    "plt.ylabel('True label')\n",
    "plt.xlabel('Predicted Label')\n",
    "plt.title('Confusion matrix')\n",
    "plt.ylim(2, 0)\n",
    "plt.show()"
   ]
  },
  {
   "cell_type": "code",
   "execution_count": 42,
   "metadata": {},
   "outputs": [
    {
     "name": "stdout",
     "output_type": "stream",
     "text": [
      "              precision    recall  f1-score   support\n",
      "\n",
      "           0       0.85      0.97      0.91      1595\n",
      "           1       0.76      0.33      0.46       405\n",
      "\n",
      "    accuracy                           0.84      2000\n",
      "   macro avg       0.80      0.65      0.68      2000\n",
      "weighted avg       0.83      0.84      0.82      2000\n",
      "\n"
     ]
    }
   ],
   "source": [
    "# the classification report\n",
    "print(classification_report(y_test, y_pred))"
   ]
  },
  {
   "cell_type": "markdown",
   "metadata": {},
   "source": [
    "####  The accuracy is 84% which is reasonable without doing any parameter tuning."
   ]
  },
  {
   "cell_type": "markdown",
   "metadata": {},
   "source": [
    "## Part 4 -> Predicting a single new observation"
   ]
  },
  {
   "cell_type": "code",
   "execution_count": 49,
   "metadata": {},
   "outputs": [],
   "source": [
    "'''\n",
    "Predict if the customer with the following informations will leave the bank:\n",
    "    Geography - France\n",
    "    Credit Score - 600\n",
    "    Gender - Male\n",
    "    Age - 40\n",
    "    Tenure - 3\n",
    "    Balance - 60000\n",
    "    Num of products - 2\n",
    "    Has Credit card - Yes\n",
    "    Is active member - Yes\n",
    "    Estimated Salary - 50000\n",
    "'''\n",
    "new_prediction = classifier.predict(sc.transform(np.array([[0, 0, 600, 1, 40, 3, 60000, 2, 1, 1, 50000]])))\n",
    "new_prediction = (new_prediction > 0.5)"
   ]
  },
  {
   "cell_type": "code",
   "execution_count": 50,
   "metadata": {},
   "outputs": [
    {
     "data": {
      "text/plain": [
       "array([[False]])"
      ]
     },
     "execution_count": 50,
     "metadata": {},
     "output_type": "execute_result"
    }
   ],
   "source": [
    "new_prediction"
   ]
  },
  {
   "cell_type": "markdown",
   "metadata": {},
   "source": [
    "#### The model predicts that the new customer with the above information will not leave the bank"
   ]
  }
 ],
 "metadata": {
  "kernelspec": {
   "display_name": "Python 3",
   "language": "python",
   "name": "python3"
  },
  "language_info": {
   "codemirror_mode": {
    "name": "ipython",
    "version": 3
   },
   "file_extension": ".py",
   "mimetype": "text/x-python",
   "name": "python",
   "nbconvert_exporter": "python",
   "pygments_lexer": "ipython3",
   "version": "3.7.6"
  }
 },
 "nbformat": 4,
 "nbformat_minor": 2
}
